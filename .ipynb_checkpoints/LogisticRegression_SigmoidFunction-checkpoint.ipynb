{
 "cells": [
  {
   "cell_type": "markdown",
   "id": "19c77591",
   "metadata": {},
   "source": [
    "https://www.google.com/search?q=where+we+use+logistic+regression&tbm=isch&ved=2ahUKEwj8__7oq6r5AhWShNgFHZTSAS0Q2-cCegQIABAA&oq=where+we+use+logi&gs_lcp=CgNpbWcQARgBMgQIABAYMgQIABAYOgQIIxAnOgUIABCABDoGCAAQHhAIUPYZWMMnYNQ5aABwAHgAgAH_AYgB6gmSAQUwLjYuMZgBAKABAaoBC2d3cy13aXotaW1nwAEB&sclient=img&ei=xj3qYvyEJZKJ4t4PlKWH6AI&bih=620&biw=1366&client=firefox-b-d#imgrc=s51r4GsLO3mJDM"
   ]
  },
  {
   "cell_type": "code",
   "execution_count": 9,
   "id": "28651bb8",
   "metadata": {},
   "outputs": [
    {
     "data": {
      "text/html": [
       "<div>\n",
       "<style scoped>\n",
       "    .dataframe tbody tr th:only-of-type {\n",
       "        vertical-align: middle;\n",
       "    }\n",
       "\n",
       "    .dataframe tbody tr th {\n",
       "        vertical-align: top;\n",
       "    }\n",
       "\n",
       "    .dataframe thead th {\n",
       "        text-align: right;\n",
       "    }\n",
       "</style>\n",
       "<table border=\"1\" class=\"dataframe\">\n",
       "  <thead>\n",
       "    <tr style=\"text-align: right;\">\n",
       "      <th></th>\n",
       "      <th>age</th>\n",
       "      <th>bought_insurance</th>\n",
       "    </tr>\n",
       "  </thead>\n",
       "  <tbody>\n",
       "    <tr>\n",
       "      <th>0</th>\n",
       "      <td>22</td>\n",
       "      <td>0</td>\n",
       "    </tr>\n",
       "    <tr>\n",
       "      <th>1</th>\n",
       "      <td>25</td>\n",
       "      <td>0</td>\n",
       "    </tr>\n",
       "    <tr>\n",
       "      <th>2</th>\n",
       "      <td>47</td>\n",
       "      <td>1</td>\n",
       "    </tr>\n",
       "  </tbody>\n",
       "</table>\n",
       "</div>"
      ],
      "text/plain": [
       "   age  bought_insurance\n",
       "0   22                 0\n",
       "1   25                 0\n",
       "2   47                 1"
      ]
     },
     "execution_count": 9,
     "metadata": {},
     "output_type": "execute_result"
    }
   ],
   "source": [
    "import pandas as pd\n",
    "import matplotlib.pyplot as plt\n",
    "insurance=pd.read_csv('https://raw.githubusercontent.com/codebasics/py/master/ML/7_logistic_reg/insurance_data.csv')\n",
    "insurance.head(3)"
   ]
  },
  {
   "cell_type": "code",
   "execution_count": 2,
   "id": "a9e00ace",
   "metadata": {},
   "outputs": [
    {
     "data": {
      "image/png": "[encoded data removed]",
      "text/plain": [
       "<Figure size 432x288 with 1 Axes>"
      ]
     },
     "metadata": {
      "needs_background": "light"
     },
     "output_type": "display_data"
    }
   ],
   "source": [
    "plt.scatter(insurance.age,insurance['bought_insurance'],color='red') # 0 means false , 1 means true\n",
    "plt.show()"
   ]
  },
  {
   "cell_type": "code",
   "execution_count": 3,
   "id": "b7ff84c2",
   "metadata": {},
   "outputs": [],
   "source": [
    "#from sklearn.model_selection import train_test_split\n",
    "x_test=insurance.age[20:]\n",
    "y_test=insurance['bought_insurance'][20:]\n",
    "x_train=insurance.age[:21]\n",
    "y_train=insurance['bought_insurance'][:21]\n",
    "\n",
    "x_train = x_train.values.reshape(-1, 1) # reshaping the array because of the 2d error\n",
    "y_train = y_train.values.reshape(-1, 1)\n",
    "x_test = x_test.values.reshape(-1, 1)\n",
    "y_test = y_test.values.reshape(-1, 1)"
   ]
  },
  {
   "cell_type": "markdown",
   "id": "bfd9f4f7",
   "metadata": {},
   "source": [
    "## Logistic Regression"
   ]
  },
  {
   "cell_type": "code",
   "execution_count": 4,
   "id": "d30020d9",
   "metadata": {},
   "outputs": [
    {
     "name": "stderr",
     "output_type": "stream",
     "text": [
      "/home/devfedora/.local/lib/python3.10/site-packages/sklearn/utils/validation.py:1111: DataConversionWarning: A column-vector y was passed when a 1d array was expected. Please change the shape of y to (n_samples, ), for example using ravel().\n",
      "  y = column_or_1d(y, warn=True)\n"
     ]
    },
    {
     "data": {
      "text/plain": [
       "0.8571428571428571"
      ]
     },
     "execution_count": 4,
     "metadata": {},
     "output_type": "execute_result"
    }
   ],
   "source": [
    "from sklearn.linear_model import LogisticRegression\n",
    "logistic=LogisticRegression()\n",
    "logistic.fit(x_train,y_train)\n",
    "predicted=logistic.predict(x_test)\n",
    "logistic.score(x_test,y_test)"
   ]
  },
  {
   "cell_type": "code",
   "execution_count": 5,
   "id": "327929a9",
   "metadata": {},
   "outputs": [
    {
     "data": {
      "text/plain": [
       "<matplotlib.collections.PathCollection at 0x7f1f71e43e80>"
      ]
     },
     "execution_count": 5,
     "metadata": {},
     "output_type": "execute_result"
    },
    {
     "data": {
      "image/png": "[encoded data removed]",
      "text/plain": [
       "<Figure size 432x288 with 1 Axes>"
      ]
     },
     "metadata": {
      "needs_background": "light"
     },
     "output_type": "display_data"
    }
   ],
   "source": [
    "plt.scatter(x_test,y_test,color='red')"
   ]
  },
  {
   "cell_type": "code",
   "execution_count": 6,
   "id": "956668c5",
   "metadata": {},
   "outputs": [
    {
     "data": {
      "text/plain": [
       "<matplotlib.collections.PathCollection at 0x7f1f71b6c1c0>"
      ]
     },
     "execution_count": 6,
     "metadata": {},
     "output_type": "execute_result"
    },
    {
     "data": {
      "image/png": "[encoded data removed]",
      "text/plain": [
       "<Figure size 432x288 with 1 Axes>"
      ]
     },
     "metadata": {
      "needs_background": "light"
     },
     "output_type": "display_data"
    }
   ],
   "source": [
    "plt.scatter(x_test,predicted,color='green')"
   ]
  },
  {
   "cell_type": "code",
   "execution_count": 7,
   "id": "e553ee6e",
   "metadata": {},
   "outputs": [
    {
     "data": {
      "text/plain": [
       "array([0])"
      ]
     },
     "execution_count": 7,
     "metadata": {},
     "output_type": "execute_result"
    }
   ],
   "source": [
    "logistic.predict([[40]])"
   ]
  },
  {
   "cell_type": "code",
   "execution_count": 8,
   "id": "fe88acbb",
   "metadata": {},
   "outputs": [
    {
     "data": {
      "text/plain": [
       "array([[0.9189384 , 0.0810616 ],\n",
       "       [0.86239291, 0.13760709],\n",
       "       [0.54382356, 0.45617644],\n",
       "       [0.39724538, 0.60275462],\n",
       "       [0.26704694, 0.73295306],\n",
       "       [0.1848514 , 0.8151486 ],\n",
       "       [0.899432  , 0.100568  ]])"
      ]
     },
     "execution_count": 8,
     "metadata": {},
     "output_type": "execute_result"
    }
   ],
   "source": [
    "logistic.predict_proba(x_test) # it calculates the probability of taking and not taking insurnce"
   ]
  },
  {
   "cell_type": "code",
   "execution_count": null,
   "id": "0021b5ff",
   "metadata": {},
   "outputs": [],
   "source": []
  }
 ],
 "metadata": {
  "kernelspec": {
   "display_name": "Python 3 (ipykernel)",
   "language": "python",
   "name": "python3"
  },
  "language_info": {
   "codemirror_mode": {
    "name": "ipython",
    "version": 3
   },
   "file_extension": ".py",
   "mimetype": "text/x-python",
   "name": "python",
   "nbconvert_exporter": "python",
   "pygments_lexer": "ipython3",
   "version": "3.10.5"
  }
 },
 "nbformat": 4,
 "nbformat_minor": 5
}
